{
 "cells": [
  {
   "cell_type": "markdown",
   "metadata": {},
   "source": [
    "# 인스타그램\n",
    "\n",
    "## 해시태그 검색 데이터\n",
    "\n",
    "검색 결과로 나온 게시물들의 caption 데이터를 추출. 댓글 데이터 수집은 지원하지 않음."
   ]
  },
  {
   "cell_type": "code",
   "execution_count": 6,
   "metadata": {},
   "outputs": [],
   "source": [
    "from snstextscraper.driver import Driver\n",
    "from snstextscraper.instagram import Instagram\n",
    "import time\n",
    "import pandas as pd\n",
    "import warnings\n",
    "\n",
    "warnings.filterwarnings(\"ignore\")"
   ]
  },
  {
   "cell_type": "markdown",
   "metadata": {},
   "source": [
    "크롬드라이버 생성 후 인스타그램으로 이동.\n",
    "\n",
    "크롬드라이버가 설치되어있는 절대경로를 입력해야함."
   ]
  },
  {
   "cell_type": "code",
   "execution_count": 2,
   "metadata": {},
   "outputs": [],
   "source": [
    "driver_path = input('path to chromedriver: ')\n",
    "driver = Driver(driver_path, headless=False)\n",
    "driver = driver.driver()\n",
    "insta = Instagram(driver)"
   ]
  },
  {
   "cell_type": "markdown",
   "metadata": {},
   "source": [
    "인스타그램 로그인."
   ]
  },
  {
   "cell_type": "code",
   "execution_count": 3,
   "metadata": {},
   "outputs": [
    {
     "name": "stdout",
     "output_type": "stream",
     "text": [
      "Login success.\n"
     ]
    }
   ],
   "source": [
    "username = input('username: ')\n",
    "password = input('password: ')\n",
    "insta.login(username, password)"
   ]
  },
  {
   "cell_type": "code",
   "execution_count": null,
   "metadata": {},
   "outputs": [],
   "source": [
    "해시태그 검색."
   ]
  },
  {
   "cell_type": "code",
   "execution_count": 4,
   "metadata": {},
   "outputs": [
    {
     "name": "stderr",
     "output_type": "stream",
     "text": [
      "/Users/cho2jiwoo/docs/PORTFOLIO/personal_project/sns-text-scraper/sns/lib/python3.9/site-packages/selenium/webdriver/remote/webelement.py:392: UserWarning: find_element_by_* commands are deprecated. Please use find_element() instead\n",
      "  warnings.warn(\"find_element_by_* commands are deprecated. Please use find_element() instead\")\n"
     ]
    }
   ],
   "source": [
    "insta.search('애플망고1947')"
   ]
  },
  {
   "cell_type": "code",
   "execution_count": null,
   "metadata": {},
   "outputs": [],
   "source": [
    "예시로 5개의 게시글에 대한 데이터를 추출. \n",
    "\n",
    "인스타그램은 공식적으로 크롤링을 금지하고 있기 때문에 신중이 크롤링 해야함."
   ]
  },
  {
   "cell_type": "code",
   "execution_count": 5,
   "metadata": {},
   "outputs": [
    {
     "name": "stderr",
     "output_type": "stream",
     "text": [
      "/Users/cho2jiwoo/docs/PORTFOLIO/personal_project/sns-text-scraper/sns/lib/python3.9/site-packages/selenium/webdriver/remote/webelement.py:358: UserWarning: find_elements_by_* commands are deprecated. Please use find_elements() instead\n",
      "  warnings.warn(\"find_elements_by_* commands are deprecated. Please use find_elements() instead\")\n"
     ]
    }
   ],
   "source": [
    "posts = []\n",
    "num_of_posts = 5\n",
    "\n",
    "for i in range(num_of_posts):\n",
    "    post = insta.get_contents()  # dictionary in {'author': author, 'caption': caption}\n",
    "    posts.append(post)\n",
    "    if not insta.has_next():\n",
    "        break\n",
    "    insta.next_post()\n",
    "    time.sleep(5)  # be gentle in scraping data. Instagram might ban your account.\n",
    "\n",
    "posts = pd.DataFrame(posts)"
   ]
  },
  {
   "cell_type": "code",
   "execution_count": 7,
   "metadata": {},
   "outputs": [
    {
     "data": {
      "text/html": [
       "<div>\n",
       "<style scoped>\n",
       "    .dataframe tbody tr th:only-of-type {\n",
       "        vertical-align: middle;\n",
       "    }\n",
       "\n",
       "    .dataframe tbody tr th {\n",
       "        vertical-align: top;\n",
       "    }\n",
       "\n",
       "    .dataframe thead th {\n",
       "        text-align: right;\n",
       "    }\n",
       "</style>\n",
       "<table border=\"1\" class=\"dataframe\">\n",
       "  <thead>\n",
       "    <tr style=\"text-align: right;\">\n",
       "      <th></th>\n",
       "      <th>author</th>\n",
       "      <th>caption</th>\n",
       "    </tr>\n",
       "  </thead>\n",
       "  <tbody>\n",
       "    <tr>\n",
       "      <th>0</th>\n",
       "      <td>rooroom_</td>\n",
       "      <td>가족여행 2일차💚\\n어제보단 얌전했던 강우덕에\\n쪼큼 덜 힘들었던 오늘하루</td>\n",
       "    </tr>\n",
       "    <tr>\n",
       "      <th>1</th>\n",
       "      <td>jjin0896</td>\n",
       "      <td>어제 인스밀 갔다가 애플망고 1947 모슬포로 옮겼다고 해서 근처니까 들러본~^^\\...</td>\n",
       "    </tr>\n",
       "    <tr>\n",
       "      <th>2</th>\n",
       "      <td>jeju_angel_travel</td>\n",
       "      <td>🌴 광고 없이 에디터 픽으로 운영되는\\n제주도 여행 소식지 제주엔젤트래블!\\n제주도...</td>\n",
       "    </tr>\n",
       "    <tr>\n",
       "      <th>3</th>\n",
       "      <td>green___yyy</td>\n",
       "      <td>🌿\\n롯데호텔 신라호텔 망빙 먹으려니\\n시간도 안 맞고 웨이팅도😨\\n사람 많은 곳 ...</td>\n",
       "    </tr>\n",
       "    <tr>\n",
       "      <th>4</th>\n",
       "      <td>118coffee_</td>\n",
       "      <td>찐이다!🥭\\n#애플망고 #망빙 #애플망고1947</td>\n",
       "    </tr>\n",
       "  </tbody>\n",
       "</table>\n",
       "</div>"
      ],
      "text/plain": [
       "              author                                            caption\n",
       "0           rooroom_          가족여행 2일차💚\\n어제보단 얌전했던 강우덕에\\n쪼큼 덜 힘들었던 오늘하루\n",
       "1           jjin0896  어제 인스밀 갔다가 애플망고 1947 모슬포로 옮겼다고 해서 근처니까 들러본~^^\\...\n",
       "2  jeju_angel_travel  🌴 광고 없이 에디터 픽으로 운영되는\\n제주도 여행 소식지 제주엔젤트래블!\\n제주도...\n",
       "3        green___yyy  🌿\\n롯데호텔 신라호텔 망빙 먹으려니\\n시간도 안 맞고 웨이팅도😨\\n사람 많은 곳 ...\n",
       "4         118coffee_                         찐이다!🥭\\n#애플망고 #망빙 #애플망고1947"
      ]
     },
     "execution_count": 7,
     "metadata": {},
     "output_type": "execute_result"
    }
   ],
   "source": [
    "posts"
   ]
  },
  {
   "cell_type": "code",
   "execution_count": null,
   "metadata": {},
   "outputs": [],
   "source": [
    "작업 완료 후 크롬드라이버 종료"
   ]
  },
  {
   "cell_type": "code",
   "execution_count": 8,
   "metadata": {},
   "outputs": [],
   "source": [
    "insta.driver.close()"
   ]
  }
 ],
 "metadata": {
  "interpreter": {
   "hash": "19c4c0ae0155194ebf4a7389c161e0c8d7fb8c6a1113575fc9683e6cf3de7727"
  },
  "kernelspec": {
   "display_name": "Python 3.9.1 64-bit ('sns': venv)",
   "language": "python",
   "name": "python3"
  },
  "language_info": {
   "codemirror_mode": {
    "name": "ipython",
    "version": 3
   },
   "file_extension": ".py",
   "mimetype": "text/x-python",
   "name": "python",
   "nbconvert_exporter": "python",
   "pygments_lexer": "ipython3",
   "version": "3.9.1"
  },
  "orig_nbformat": 4
 },
 "nbformat": 4,
 "nbformat_minor": 2
}
