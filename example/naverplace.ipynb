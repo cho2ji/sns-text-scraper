{
 "cells": [
  {
   "cell_type": "markdown",
   "metadata": {},
   "source": [
    "# 네이버 플레이스\n",
    "\n",
    "## 업체의 가게설명과 리뷰 데이터\n",
    "\n",
    "[네이버 지도](map.naver.com)에서 첫번째 검색결과로 검색되는 업체의 데이터를 가져옴. 그렇기 때문에 검색결과에 따라 원하는 업체의 데이터가 뽑히지 않을 수 있음."
   ]
  },
  {
   "cell_type": "code",
   "execution_count": 1,
   "metadata": {},
   "outputs": [],
   "source": [
    "from naverplacescraper import NaverPlace"
   ]
  },
  {
   "cell_type": "code",
   "execution_count": 2,
   "metadata": {},
   "outputs": [],
   "source": [
    "store = NaverPlace('나폴리회관')"
   ]
  },
  {
   "cell_type": "markdown",
   "metadata": {},
   "source": [
    "### 간단한 업체 정보\n",
    "\n",
    "`NaverPlace.info`: 검색된 업체의 간단한 정보"
   ]
  },
  {
   "cell_type": "code",
   "execution_count": 3,
   "metadata": {},
   "outputs": [
    {
     "data": {
      "text/plain": [
       "id                                254053959\n",
       "name                             나폴리회관 강남역점\n",
       "tel                             02-538-5067\n",
       "roadAddress    서울특별시 강남구 테헤란로5길 24 1층 나폴리회관\n",
       "reviewCount                             569\n",
       "bizhourInfo      매일 11:30~22:00 마지막주문 21:00\n",
       "x                               127.0289714\n",
       "y                                37.5001379\n",
       "Name: 0, dtype: object"
      ]
     },
     "execution_count": 3,
     "metadata": {},
     "output_type": "execute_result"
    }
   ],
   "source": [
    "store.info"
   ]
  },
  {
   "cell_type": "markdown",
   "metadata": {},
   "source": [
    "### 가게 설명 텍스트 데이터"
   ]
  },
  {
   "cell_type": "markdown",
   "metadata": {},
   "source": [
    "`NaverPlace.get_description()`: 업체에서 등록한 가게 설명 정보를 추출"
   ]
  },
  {
   "cell_type": "code",
   "execution_count": 4,
   "metadata": {},
   "outputs": [
    {
     "data": {
      "text/plain": [
       "'나폴리회관은 미각과 시각을 동시에 충족시킬 수 있는 다양한 이탈리아 요리를 선보이는 곳입니다.\\n\\n어디에서나 맛볼수 없는 이탈리아 정통 가정식을 여러분께 선보입니다. \\n\\n나폴리 회관은 이탈리아산 폼페이 화산석 화덕에 이탈리아 고급 밀가루인 5STAGIONI로 숙성시켜 만든 도우를 나폴리 피자 협회 규정에 따라 485도의 참나무 장작에 구워 손님께 제공합니다\\n80석규모의 단체모임, 대관이 가능하며, 나폴리피자협회수료와 나폴리 챔피언 핏제리아에서 근무경험이 있는 최정태 쉐프가 직접 기획하는 창의적이고 특별한 메뉴를 경험해 보세요. \\n\\n특별한 날을 더욱 더 빛나게 하는 Special Menu, 각종 문화공연 및 브랜드와의 Collaboration Menu 등 다양한 행사 및 모임에 적합한 Menu를 고객님께 Customized된 서비스로 제공해 드립니다'"
      ]
     },
     "execution_count": 4,
     "metadata": {},
     "output_type": "execute_result"
    }
   ],
   "source": [
    "description = store.get_description()\n",
    "description"
   ]
  },
  {
   "cell_type": "markdown",
   "metadata": {},
   "source": [
    "### 리뷰 텍스트 데이터"
   ]
  },
  {
   "cell_type": "markdown",
   "metadata": {},
   "source": [
    "`NaverPlace.get_reviews(num_of_reviews: int)`: 리뷰 작성 날짜, 글쓴이, 리뷰 데이터만 담고 있음"
   ]
  },
  {
   "cell_type": "code",
   "execution_count": 5,
   "metadata": {},
   "outputs": [
    {
     "data": {
      "text/html": [
       "<div>\n",
       "<style scoped>\n",
       "    .dataframe tbody tr th:only-of-type {\n",
       "        vertical-align: middle;\n",
       "    }\n",
       "\n",
       "    .dataframe tbody tr th {\n",
       "        vertical-align: top;\n",
       "    }\n",
       "\n",
       "    .dataframe thead th {\n",
       "        text-align: right;\n",
       "    }\n",
       "</style>\n",
       "<table border=\"1\" class=\"dataframe\">\n",
       "  <thead>\n",
       "    <tr style=\"text-align: right;\">\n",
       "      <th></th>\n",
       "      <th>date</th>\n",
       "      <th>author</th>\n",
       "      <th>review</th>\n",
       "    </tr>\n",
       "  </thead>\n",
       "  <tbody>\n",
       "    <tr>\n",
       "      <th>0</th>\n",
       "      <td>2.15.화</td>\n",
       "      <td>byd789</td>\n",
       "      <td>맛있게 잘 먹었습니다</td>\n",
       "    </tr>\n",
       "    <tr>\n",
       "      <th>1</th>\n",
       "      <td>2.14.월</td>\n",
       "      <td>은영</td>\n",
       "      <td>분위기도 좋고 그냥 파스타 리조또 둘다 미쳤습니다!</td>\n",
       "    </tr>\n",
       "    <tr>\n",
       "      <th>2</th>\n",
       "      <td>2.13.일</td>\n",
       "      <td>풋텬</td>\n",
       "      <td>잘먹었습니다.</td>\n",
       "    </tr>\n",
       "    <tr>\n",
       "      <th>3</th>\n",
       "      <td>2.13.일</td>\n",
       "      <td>hrpark92</td>\n",
       "      <td>그저 그래요 한번가보고 안 가볼 집이에요</td>\n",
       "    </tr>\n",
       "    <tr>\n",
       "      <th>4</th>\n",
       "      <td>2.12.토</td>\n",
       "      <td>블루썬</td>\n",
       "      <td></td>\n",
       "    </tr>\n",
       "    <tr>\n",
       "      <th>...</th>\n",
       "      <td>...</td>\n",
       "      <td>...</td>\n",
       "      <td>...</td>\n",
       "    </tr>\n",
       "    <tr>\n",
       "      <th>95</th>\n",
       "      <td>21.12.27.월</td>\n",
       "      <td>Yoooun</td>\n",
       "      <td>좋아요</td>\n",
       "    </tr>\n",
       "    <tr>\n",
       "      <th>96</th>\n",
       "      <td>21.12.26.일</td>\n",
       "      <td>제팔바로</td>\n",
       "      <td>여기 진짜 맛있었어요!! 음식도 따뜻한데 면도 꼬들하니 ㅎㅎ</td>\n",
       "    </tr>\n",
       "    <tr>\n",
       "      <th>97</th>\n",
       "      <td>21.12.26.일</td>\n",
       "      <td>현쥬</td>\n",
       "      <td>음식도 넘 맛있었고 분위기도 좋았어요~ 긴 외투를 걸 수 있는 옷걸이도 넘 센스 있...</td>\n",
       "    </tr>\n",
       "    <tr>\n",
       "      <th>98</th>\n",
       "      <td>21.12.25.토</td>\n",
       "      <td>jijibebe</td>\n",
       "      <td>굿</td>\n",
       "    </tr>\n",
       "    <tr>\n",
       "      <th>99</th>\n",
       "      <td>21.12.25.토</td>\n",
       "      <td>kgi****</td>\n",
       "      <td>굉장히 넓고 옷을 걸수 있는 행거도 있어서 편해요 피자도 화덕피자라 더 맛있어요</td>\n",
       "    </tr>\n",
       "  </tbody>\n",
       "</table>\n",
       "<p>100 rows × 3 columns</p>\n",
       "</div>"
      ],
      "text/plain": [
       "          date    author                                             review\n",
       "0       2.15.화    byd789                                        맛있게 잘 먹었습니다\n",
       "1       2.14.월        은영                       분위기도 좋고 그냥 파스타 리조또 둘다 미쳤습니다!\n",
       "2       2.13.일        풋텬                                            잘먹었습니다.\n",
       "3       2.13.일  hrpark92                             그저 그래요 한번가보고 안 가볼 집이에요\n",
       "4       2.12.토       블루썬                                                   \n",
       "..         ...       ...                                                ...\n",
       "95  21.12.27.월    Yoooun                                                좋아요\n",
       "96  21.12.26.일      제팔바로                  여기 진짜 맛있었어요!! 음식도 따뜻한데 면도 꼬들하니 ㅎㅎ\n",
       "97  21.12.26.일        현쥬  음식도 넘 맛있었고 분위기도 좋았어요~ 긴 외투를 걸 수 있는 옷걸이도 넘 센스 있...\n",
       "98  21.12.25.토  jijibebe                                                  굿\n",
       "99  21.12.25.토   kgi****       굉장히 넓고 옷을 걸수 있는 행거도 있어서 편해요 피자도 화덕피자라 더 맛있어요\n",
       "\n",
       "[100 rows x 3 columns]"
      ]
     },
     "execution_count": 5,
     "metadata": {},
     "output_type": "execute_result"
    }
   ],
   "source": [
    "reviews = store.get_reviews()  # num_of_reviews defaults to 100\n",
    "reviews"
   ]
  },
  {
   "cell_type": "markdown",
   "metadata": {},
   "source": [
    "`NaverPlace.raw_review_data`: response 받은 리뷰 데이터가 리스트로 담겨있음"
   ]
  },
  {
   "cell_type": "code",
   "execution_count": 6,
   "metadata": {},
   "outputs": [
    {
     "data": {
      "text/plain": [
       "{'id': '620c44b36679d99157cba33e',\n",
       " 'rating': None,\n",
       " 'author': {'id': '47lO0',\n",
       "  'nickname': 'byd789',\n",
       "  'from': 'naver',\n",
       "  'imageUrl': None,\n",
       "  'objectId': '5e33f0f78f87a842bc61c47f',\n",
       "  'url': 'https://m.place.naver.com/my/5e33f0f78f87a842bc61c47f/review?v=2',\n",
       "  'review': None,\n",
       "  '__typename': 'VisitorReviewAuthor'},\n",
       " 'body': '맛있게 잘 먹었습니다',\n",
       " 'thumbnail': None,\n",
       " 'media': [],\n",
       " 'tags': ['예약'],\n",
       " 'status': 'published',\n",
       " 'visitCount': 2,\n",
       " 'viewCount': 0,\n",
       " 'visited': '2.15.화',\n",
       " 'created': '2.16.수',\n",
       " 'reply': {'editUrl': 'https://new-m.smartplace.naver.com/bizes/booking/114471/reviews/24765902?type=booking&bookingBusinessId=114471',\n",
       "  'body': None,\n",
       "  'editedBy': None,\n",
       "  'created': '2.16.수',\n",
       "  'replyTitle': '강남역 나폴리회관',\n",
       "  '__typename': 'VisitorReviewReply'},\n",
       " 'originType': '예약',\n",
       " 'item': {'name': '일반예약',\n",
       "  'code': '2761787',\n",
       "  'options': None,\n",
       "  '__typename': 'VisitorReviewItem'},\n",
       " 'language': 'ko',\n",
       " 'highlightOffsets': None,\n",
       " 'translatedText': None,\n",
       " 'businessName': '강남역 나폴리회관',\n",
       " 'showBookingItemName': True,\n",
       " 'showBookingItemOptions': None,\n",
       " 'bookingItemName': '일반예약',\n",
       " 'bookingItemOptions': '',\n",
       " '__typename': 'VisitorReview'}"
      ]
     },
     "execution_count": 6,
     "metadata": {},
     "output_type": "execute_result"
    }
   ],
   "source": [
    "# First review\n",
    "store.raw_review_data[0]"
   ]
  },
  {
   "cell_type": "markdown",
   "metadata": {},
   "source": [
    "### 네이버 플레이스 검색 결과 리스트 데이터"
   ]
  },
  {
   "cell_type": "code",
   "execution_count": 7,
   "metadata": {},
   "outputs": [
    {
     "data": {
      "text/html": [
       "<div>\n",
       "<style scoped>\n",
       "    .dataframe tbody tr th:only-of-type {\n",
       "        vertical-align: middle;\n",
       "    }\n",
       "\n",
       "    .dataframe tbody tr th {\n",
       "        vertical-align: top;\n",
       "    }\n",
       "\n",
       "    .dataframe thead th {\n",
       "        text-align: right;\n",
       "    }\n",
       "</style>\n",
       "<table border=\"1\" class=\"dataframe\">\n",
       "  <thead>\n",
       "    <tr style=\"text-align: right;\">\n",
       "      <th></th>\n",
       "      <th>index</th>\n",
       "      <th>rank</th>\n",
       "      <th>id</th>\n",
       "      <th>name</th>\n",
       "      <th>tel</th>\n",
       "      <th>isCallLink</th>\n",
       "      <th>virtualTel</th>\n",
       "      <th>ppc</th>\n",
       "      <th>category</th>\n",
       "      <th>categoryPath</th>\n",
       "      <th>...</th>\n",
       "      <th>card</th>\n",
       "      <th>distance</th>\n",
       "      <th>marker</th>\n",
       "      <th>markerSelected</th>\n",
       "      <th>microReview</th>\n",
       "      <th>michelinGuide</th>\n",
       "      <th>indoor</th>\n",
       "      <th>markerLabel</th>\n",
       "      <th>subway</th>\n",
       "      <th>evChargerInfo</th>\n",
       "    </tr>\n",
       "  </thead>\n",
       "  <tbody>\n",
       "    <tr>\n",
       "      <th>0</th>\n",
       "      <td>0</td>\n",
       "      <td>1</td>\n",
       "      <td>254053959</td>\n",
       "      <td>나폴리회관 강남역점</td>\n",
       "      <td>02-538-5067</td>\n",
       "      <td>False</td>\n",
       "      <td>0507-1316-5067</td>\n",
       "      <td>1</td>\n",
       "      <td>[음식점, 이탈리아음식]</td>\n",
       "      <td>[[220036, 220044, 220127, 220913], [1004760, 1...</td>\n",
       "      <td>...</td>\n",
       "      <td>None</td>\n",
       "      <td>11731.37</td>\n",
       "      <td>nres://marker/00073-00122</td>\n",
       "      <td>nres://marker/00073-00276</td>\n",
       "      <td>[]</td>\n",
       "      <td>None</td>\n",
       "      <td>None</td>\n",
       "      <td>None</td>\n",
       "      <td>None</td>\n",
       "      <td>{'summary': {'fastEvCharger': {'type': '급속', '...</td>\n",
       "    </tr>\n",
       "  </tbody>\n",
       "</table>\n",
       "<p>1 rows × 68 columns</p>\n",
       "</div>"
      ],
      "text/plain": [
       "  index rank         id        name          tel  isCallLink      virtualTel  \\\n",
       "0     0    1  254053959  나폴리회관 강남역점  02-538-5067       False  0507-1316-5067   \n",
       "\n",
       "  ppc       category                                       categoryPath  ...  \\\n",
       "0   1  [음식점, 이탈리아음식]  [[220036, 220044, 220127, 220913], [1004760, 1...  ...   \n",
       "\n",
       "   card  distance                     marker             markerSelected  \\\n",
       "0  None  11731.37  nres://marker/00073-00122  nres://marker/00073-00276   \n",
       "\n",
       "  microReview michelinGuide indoor  markerLabel subway  \\\n",
       "0          []          None   None         None   None   \n",
       "\n",
       "                                       evChargerInfo  \n",
       "0  {'summary': {'fastEvCharger': {'type': '급속', '...  \n",
       "\n",
       "[1 rows x 68 columns]"
      ]
     },
     "execution_count": 7,
     "metadata": {},
     "output_type": "execute_result"
    }
   ],
   "source": [
    "search_results = store.search_result  # list of search results\n",
    "search_results"
   ]
  },
  {
   "cell_type": "markdown",
   "metadata": {},
   "source": [
    "### 다른 지역 검색\n",
    "\n",
    "기본적으로 '서울'을 중심으로 검색하게 되어 있으므로 `location`에 원하는 지역을 설정해주면 해당 지역을 중심으로 검색하게 됨."
   ]
  },
  {
   "cell_type": "code",
   "execution_count": 8,
   "metadata": {},
   "outputs": [],
   "source": [
    "store = NaverPlace('애플망고1947', location='제주')  # location defaults to '서울'\n",
    "description = store.get_description()\n",
    "reviews = store.get_reviews()"
   ]
  },
  {
   "cell_type": "code",
   "execution_count": 9,
   "metadata": {},
   "outputs": [
    {
     "data": {
      "text/plain": [
       "'2021년 7월 임시매장을 대정읍 신평리 곶자왈마을에 이전하였습니다. 메인 매장은 바로 근처에 체험이 가능한 오픈 농장과 함께 다양한 사진 촬영이 가능한 예쁜\\x03카페 공간을 건축중입니다. 아쉽게도, 코로나와 여러 이유로 조금 늦어지고 있지만 아주 멋진 별도의 공간을 준비중이니 양해부탁드립니다. 이미 소문나있는 100% 제주 애플망고 빙수를 비롯해 다양한 메뉴를 선보일 예정입니다. 제주 농부 촌장이 직접 재배한 애플망고를 가장 저렴하게 구입하실수도 있답니다. 곶자왈(숲+돌,자갈) 마을인 신평리의 정겨움까지 듬뿍 담겠습니다. \\n제 고향에 오신 것을 미리 진심으로 환영합니다.'"
      ]
     },
     "execution_count": 9,
     "metadata": {},
     "output_type": "execute_result"
    }
   ],
   "source": [
    "description"
   ]
  },
  {
   "cell_type": "code",
   "execution_count": 10,
   "metadata": {},
   "outputs": [
    {
     "data": {
      "text/html": [
       "<div>\n",
       "<style scoped>\n",
       "    .dataframe tbody tr th:only-of-type {\n",
       "        vertical-align: middle;\n",
       "    }\n",
       "\n",
       "    .dataframe tbody tr th {\n",
       "        vertical-align: top;\n",
       "    }\n",
       "\n",
       "    .dataframe thead th {\n",
       "        text-align: right;\n",
       "    }\n",
       "</style>\n",
       "<table border=\"1\" class=\"dataframe\">\n",
       "  <thead>\n",
       "    <tr style=\"text-align: right;\">\n",
       "      <th></th>\n",
       "      <th>date</th>\n",
       "      <th>author</th>\n",
       "      <th>review</th>\n",
       "    </tr>\n",
       "  </thead>\n",
       "  <tbody>\n",
       "    <tr>\n",
       "      <th>0</th>\n",
       "      <td>21.10.12.화</td>\n",
       "      <td>chc****</td>\n",
       "      <td>애플망고빙수가 이번주 언제 종료될지 모르니 전화하고 오라고 하셨는데 이틀 동안 전화...</td>\n",
       "    </tr>\n",
       "    <tr>\n",
       "      <th>1</th>\n",
       "      <td>21.10.11.월</td>\n",
       "      <td>ffc****</td>\n",
       "      <td>애플망고가 입에서 살살녹아서 사라짐\\n사라진 애플망고 내놓으세요</td>\n",
       "    </tr>\n",
       "    <tr>\n",
       "      <th>2</th>\n",
       "      <td>21.10.5.화</td>\n",
       "      <td>Soon</td>\n",
       "      <td>제주산 애플망고빙수 치고는 가격도 착하고 양도 푸짐했어요. 다른곳은 애플망고빙수 시...</td>\n",
       "    </tr>\n",
       "    <tr>\n",
       "      <th>3</th>\n",
       "      <td>21.10.3.일</td>\n",
       "      <td>차니</td>\n",
       "      <td>가성비가 좋아요. 신라호텔 반도 안되는 가격에 이 정도 퀄리티면 두번 가도 좋을 듯...</td>\n",
       "    </tr>\n",
       "    <tr>\n",
       "      <th>4</th>\n",
       "      <td>21.10.3.일</td>\n",
       "      <td>잰꾸잰이</td>\n",
       "      <td>직접 재배하신 애플망고를 흘러넘칠정도로 쌓아주셔서 보기만해도 행복해질 정도였습니다!</td>\n",
       "    </tr>\n",
       "    <tr>\n",
       "      <th>...</th>\n",
       "      <td>...</td>\n",
       "      <td>...</td>\n",
       "      <td>...</td>\n",
       "    </tr>\n",
       "    <tr>\n",
       "      <th>95</th>\n",
       "      <td>20.10.5.월</td>\n",
       "      <td>김양씨</td>\n",
       "      <td>여름에만 판매하는줄 알았는데 지금도 먹을 수있네요. 가을이라도 낮에는 덥던데 시원하...</td>\n",
       "    </tr>\n",
       "    <tr>\n",
       "      <th>96</th>\n",
       "      <td>20.10.5.월</td>\n",
       "      <td>red****</td>\n",
       "      <td>애플망고 먹으려고 제주도까지 왔어요 ㅎㅎ 너무 맛있게 먹고 가요</td>\n",
       "    </tr>\n",
       "    <tr>\n",
       "      <th>97</th>\n",
       "      <td>20.10.2.금</td>\n",
       "      <td>isawara</td>\n",
       "      <td>애플망고빙수는 맛있었어요.\\n명성에 누가되는 인테리어 컨셉 어쩔..ㅠ.ㅠ</td>\n",
       "    </tr>\n",
       "    <tr>\n",
       "      <th>98</th>\n",
       "      <td>20.10.2.금</td>\n",
       "      <td>Seo</td>\n",
       "      <td>27000원어치만큼 맛있는진 모르겠어요ㅎㅎ</td>\n",
       "    </tr>\n",
       "    <tr>\n",
       "      <th>99</th>\n",
       "      <td>20.9.27.일</td>\n",
       "      <td>ㅖ지</td>\n",
       "      <td>밍고빙수는 오전에 가야만 먹을 수 있나봐여ㅠ</td>\n",
       "    </tr>\n",
       "  </tbody>\n",
       "</table>\n",
       "<p>100 rows × 3 columns</p>\n",
       "</div>"
      ],
      "text/plain": [
       "          date   author                                             review\n",
       "0   21.10.12.화  chc****  애플망고빙수가 이번주 언제 종료될지 모르니 전화하고 오라고 하셨는데 이틀 동안 전화...\n",
       "1   21.10.11.월  ffc****                애플망고가 입에서 살살녹아서 사라짐\\n사라진 애플망고 내놓으세요\n",
       "2    21.10.5.화     Soon  제주산 애플망고빙수 치고는 가격도 착하고 양도 푸짐했어요. 다른곳은 애플망고빙수 시...\n",
       "3    21.10.3.일       차니  가성비가 좋아요. 신라호텔 반도 안되는 가격에 이 정도 퀄리티면 두번 가도 좋을 듯...\n",
       "4    21.10.3.일     잰꾸잰이     직접 재배하신 애플망고를 흘러넘칠정도로 쌓아주셔서 보기만해도 행복해질 정도였습니다!\n",
       "..         ...      ...                                                ...\n",
       "95   20.10.5.월      김양씨  여름에만 판매하는줄 알았는데 지금도 먹을 수있네요. 가을이라도 낮에는 덥던데 시원하...\n",
       "96   20.10.5.월  red****                애플망고 먹으려고 제주도까지 왔어요 ㅎㅎ 너무 맛있게 먹고 가요\n",
       "97   20.10.2.금  isawara           애플망고빙수는 맛있었어요.\\n명성에 누가되는 인테리어 컨셉 어쩔..ㅠ.ㅠ\n",
       "98   20.10.2.금      Seo                            27000원어치만큼 맛있는진 모르겠어요ㅎㅎ\n",
       "99   20.9.27.일       ㅖ지                           밍고빙수는 오전에 가야만 먹을 수 있나봐여ㅠ\n",
       "\n",
       "[100 rows x 3 columns]"
      ]
     },
     "execution_count": 10,
     "metadata": {},
     "output_type": "execute_result"
    }
   ],
   "source": [
    "reviews"
   ]
  },
  {
   "cell_type": "markdown",
   "metadata": {},
   "source": [
    "### 여러 업체 리뷰 데이터 추출\n",
    "\n",
    "업체 리스트를 가지고 있고 리스트에 있는 모든 업체들의 리뷰 데이터를 추출함"
   ]
  },
  {
   "cell_type": "code",
   "execution_count": 11,
   "metadata": {},
   "outputs": [],
   "source": [
    "import pandas as pd\n",
    "import time\n",
    "from tqdm.notebook import tqdm_notebook\n",
    "from IPython.display import display, clear_output"
   ]
  },
  {
   "cell_type": "code",
   "execution_count": 12,
   "metadata": {},
   "outputs": [
    {
     "data": {
      "application/vnd.jupyter.widget-view+json": {
       "model_id": "0e39690be50a4ef4b9478a5142789878",
       "version_major": 2,
       "version_minor": 0
      },
      "text/plain": [
       "  0%|          | 0/3 [00:00<?, ?it/s]"
      ]
     },
     "metadata": {},
     "output_type": "display_data"
    }
   ],
   "source": [
    "store_list = ['나폴리회관', '애플망고1947', '스타벅스']\n",
    "real_store_name = []\n",
    "res = []\n",
    "\n",
    "for i in tqdm_notebook(store_list):\n",
    "    try:\n",
    "        store = NaverPlace(i)\n",
    "        reviews = store.get_reviews(5)\n",
    "        review_list = reviews['review'].tolist()\n",
    "        \n",
    "        name = store.info['name']\n",
    "        real_store_name.append(name)\n",
    "        res.append(review_list)\n",
    "        clear_output(wait=True)\n",
    "        time.sleep(5)\n",
    "    except:\n",
    "        continue"
   ]
  },
  {
   "cell_type": "code",
   "execution_count": 13,
   "metadata": {},
   "outputs": [
    {
     "data": {
      "text/html": [
       "<div>\n",
       "<style scoped>\n",
       "    .dataframe tbody tr th:only-of-type {\n",
       "        vertical-align: middle;\n",
       "    }\n",
       "\n",
       "    .dataframe tbody tr th {\n",
       "        vertical-align: top;\n",
       "    }\n",
       "\n",
       "    .dataframe thead th {\n",
       "        text-align: right;\n",
       "    }\n",
       "</style>\n",
       "<table border=\"1\" class=\"dataframe\">\n",
       "  <thead>\n",
       "    <tr style=\"text-align: right;\">\n",
       "      <th></th>\n",
       "      <th>store</th>\n",
       "      <th>review</th>\n",
       "    </tr>\n",
       "  </thead>\n",
       "  <tbody>\n",
       "    <tr>\n",
       "      <th>0</th>\n",
       "      <td>나폴리회관 강남역점</td>\n",
       "      <td>[맛있게 잘 먹었습니다, 분위기도 좋고 그냥 파스타 리조또 둘다 미쳤습니다!, 잘먹...</td>\n",
       "    </tr>\n",
       "    <tr>\n",
       "      <th>1</th>\n",
       "      <td>애플망고1947</td>\n",
       "      <td>[애플망고빙수가 이번주 언제 종료될지 모르니 전화하고 오라고 하셨는데 이틀 동안 전...</td>\n",
       "    </tr>\n",
       "    <tr>\n",
       "      <th>2</th>\n",
       "      <td>스타벅스 연희DT점</td>\n",
       "      <td>[커피맛이 좋아요, 좋아요, 좋아요, 쿠폰으로 저렴하게 봄맞이 신상품 먹고왔어오, ...</td>\n",
       "    </tr>\n",
       "  </tbody>\n",
       "</table>\n",
       "</div>"
      ],
      "text/plain": [
       "        store                                             review\n",
       "0  나폴리회관 강남역점  [맛있게 잘 먹었습니다, 분위기도 좋고 그냥 파스타 리조또 둘다 미쳤습니다!, 잘먹...\n",
       "1    애플망고1947  [애플망고빙수가 이번주 언제 종료될지 모르니 전화하고 오라고 하셨는데 이틀 동안 전...\n",
       "2  스타벅스 연희DT점  [커피맛이 좋아요, 좋아요, 좋아요, 쿠폰으로 저렴하게 봄맞이 신상품 먹고왔어오, ..."
      ]
     },
     "execution_count": 13,
     "metadata": {},
     "output_type": "execute_result"
    }
   ],
   "source": [
    "review_df = pd.DataFrame(zip(real_store_name, res), columns=['store', 'review'])\n",
    "review_df"
   ]
  },
  {
   "cell_type": "markdown",
   "metadata": {},
   "source": [
    "### Http headers 설정\n",
    "\n",
    "기본적으로 GET request를 보낼때 User-Agent가 포함된 헤더가 추가됨. 만약 헤더에 내용을 추가 하고 싶다면 `NaverPlace.attach_headers(headers: dict)`를 사용."
   ]
  },
  {
   "cell_type": "code",
   "execution_count": 14,
   "metadata": {},
   "outputs": [
    {
     "name": "stdout",
     "output_type": "stream",
     "text": [
      "Default headers: {'User-Agent': 'Mozilla/5.0 (Macintosh; Intel Mac OS X 10_15_7) AppleWebKit/537.36 (KHTML, like Gecko) Chrome/98.0.4758.80 Safari/537.36'}\n",
      "New custom headers: {'User-Agent': 'Mozilla/5.0 (Macintosh; Intel Mac OS X 10_15_7) AppleWebKit/537.36 (KHTML, like Gecko) Chrome/98.0.4758.80 Safari/537.36'}\n"
     ]
    }
   ],
   "source": [
    "print(f'Default headers: {store.headers}')\n",
    "headers = {\n",
    "    'User-Agent': 'Mozilla/5.0 (Macintosh; Intel Mac OS X 10_15_7) AppleWebKit/537.36 (KHTML, like Gecko) Chrome/98.0.4758.80 Safari/537.36',\n",
    "}\n",
    "store.attach_headers(headers=headers)\n",
    "print(f'New custom headers: {store.headers}')"
   ]
  }
 ],
 "metadata": {
  "interpreter": {
   "hash": "19c4c0ae0155194ebf4a7389c161e0c8d7fb8c6a1113575fc9683e6cf3de7727"
  },
  "kernelspec": {
   "display_name": "Python 3 (ipykernel)",
   "language": "python",
   "name": "python3"
  },
  "language_info": {
   "codemirror_mode": {
    "name": "ipython",
    "version": 3
   },
   "file_extension": ".py",
   "mimetype": "text/x-python",
   "name": "python",
   "nbconvert_exporter": "python",
   "pygments_lexer": "ipython3",
   "version": "3.9.1"
  }
 },
 "nbformat": 4,
 "nbformat_minor": 4
}
