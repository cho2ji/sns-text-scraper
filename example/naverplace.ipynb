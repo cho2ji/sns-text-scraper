{
 "cells": [
  {
   "cell_type": "markdown",
   "metadata": {},
   "source": [
    "# 네이버 플레이스\n",
    "\n",
    "## 업체의 가게설명과 리뷰 데이터\n",
    "\n",
    "네이버 지도의 첫번째 검색결과로 검색되는 업체 데이터를 가져오기 때문에 검색결과에 따라 원하는 업체의 데이터가 뽑히지 않을 수 있음. 그럴땐 `store.info['search_results']` 로 검색 결과를 확인해보고 검색하길 원하는 업체의 id로 검색."
   ]
  },
  {
   "cell_type": "code",
   "execution_count": 1,
   "metadata": {},
   "outputs": [],
   "source": [
    "from snstextscraper.naverplace import Store"
   ]
  },
  {
   "cell_type": "code",
   "execution_count": 10,
   "metadata": {},
   "outputs": [],
   "source": [
    "store = Store('나폴리회관')  # location defaults to '서울'\n",
    "description = store.get_description()\n",
    "reviews = store.get_reviews()  # defaults to 100 reviews."
   ]
  },
  {
   "cell_type": "code",
   "execution_count": 11,
   "metadata": {},
   "outputs": [
    {
     "data": {
      "text/plain": [
       "'나폴리회관은 미각과 시각을 동시에 충족시킬 수 있는 다양한 이탈리아 요리를 선보이는 곳입니다.\\n\\n어디에서나 맛볼수 없는 이탈리아 정통 가정식을 여러분께 선보입니다. \\n\\n나폴리 회관은 이탈리아산 폼페이 화산석 화덕에 이탈리아 고급 밀가루인 5STAGIONI로 숙성시켜 만든 도우를 나폴리 피자 협회 규정에 따라 485도의 참나무 장작에 구워 손님께 제공합니다\\n80석규모의 단체모임, 대관이 가능하며, 나폴리피자협회수료와 나폴리 챔피언 핏제리아에서 근무경험이 있는 최정태 쉐프가 직접 기획하는 창의적이고 특별한 메뉴를 경험해 보세요. \\n\\n특별한 날을 더욱 더 빛나게 하는 Special Menu, 각종 문화공연 및 브랜드와의 Collaboration Menu 등 다양한 행사 및 모임에 적합한 Menu를 고객님께 Customized된 서비스로 제공해 드립니다'"
      ]
     },
     "execution_count": 11,
     "metadata": {},
     "output_type": "execute_result"
    }
   ],
   "source": [
    "description"
   ]
  },
  {
   "cell_type": "code",
   "execution_count": 12,
   "metadata": {},
   "outputs": [
    {
     "data": {
      "text/html": [
       "<div>\n",
       "<style scoped>\n",
       "    .dataframe tbody tr th:only-of-type {\n",
       "        vertical-align: middle;\n",
       "    }\n",
       "\n",
       "    .dataframe tbody tr th {\n",
       "        vertical-align: top;\n",
       "    }\n",
       "\n",
       "    .dataframe thead th {\n",
       "        text-align: right;\n",
       "    }\n",
       "</style>\n",
       "<table border=\"1\" class=\"dataframe\">\n",
       "  <thead>\n",
       "    <tr style=\"text-align: right;\">\n",
       "      <th></th>\n",
       "      <th>author</th>\n",
       "      <th>review</th>\n",
       "    </tr>\n",
       "  </thead>\n",
       "  <tbody>\n",
       "    <tr>\n",
       "      <th>0</th>\n",
       "      <td>2ky****</td>\n",
       "      <td>풍기크레마 맛잇어욜</td>\n",
       "    </tr>\n",
       "    <tr>\n",
       "      <th>1</th>\n",
       "      <td>hoony</td>\n",
       "      <td>세 메뉴 음식 다 맛있게 먹긴 했는데 먹는 족족 그릇을 치우시니.. 다 먹기가 무섭...</td>\n",
       "    </tr>\n",
       "    <tr>\n",
       "      <th>2</th>\n",
       "      <td>spa****</td>\n",
       "      <td>음식도 빠르게 나오고 특히 피자가 너무 맛있어요^^</td>\n",
       "    </tr>\n",
       "    <tr>\n",
       "      <th>3</th>\n",
       "      <td>주</td>\n",
       "      <td>리조또가 짭짤하게 맛있고 마르게리따도 바삭 쫀득하니 맛있어요</td>\n",
       "    </tr>\n",
       "    <tr>\n",
       "      <th>4</th>\n",
       "      <td>나리</td>\n",
       "      <td>오랜만에 왔는데도 여전히 맛있습니다! 매장도 넓어서 여럿이서 모임하러 오기에도 좋을...</td>\n",
       "    </tr>\n",
       "    <tr>\n",
       "      <th>...</th>\n",
       "      <td>...</td>\n",
       "      <td>...</td>\n",
       "    </tr>\n",
       "    <tr>\n",
       "      <th>95</th>\n",
       "      <td>YunSeo</td>\n",
       "      <td>피자가 맛있었어요 \\nㅎㅎㅎ 주뭄하면 빨리 나옵니다\\n음료 리필은 안되소 은근 돈아깝..</td>\n",
       "    </tr>\n",
       "    <tr>\n",
       "      <th>96</th>\n",
       "      <td>EuGene</td>\n",
       "      <td>피자 파스타 모두 맛있어요.</td>\n",
       "    </tr>\n",
       "    <tr>\n",
       "      <th>97</th>\n",
       "      <td>EuGene</td>\n",
       "      <td>맛있어요~ 추천</td>\n",
       "    </tr>\n",
       "    <tr>\n",
       "      <th>98</th>\n",
       "      <td>김규리</td>\n",
       "      <td>맛있어요!! 매장도 넓고 좋습다아:)</td>\n",
       "    </tr>\n",
       "    <tr>\n",
       "      <th>99</th>\n",
       "      <td>손지우</td>\n",
       "      <td>라자냐랑 샐러드 넘 맛있어요!</td>\n",
       "    </tr>\n",
       "  </tbody>\n",
       "</table>\n",
       "<p>100 rows × 2 columns</p>\n",
       "</div>"
      ],
      "text/plain": [
       "     author                                             review\n",
       "0   2ky****                                         풍기크레마 맛잇어욜\n",
       "1     hoony  세 메뉴 음식 다 맛있게 먹긴 했는데 먹는 족족 그릇을 치우시니.. 다 먹기가 무섭...\n",
       "2   spa****                       음식도 빠르게 나오고 특히 피자가 너무 맛있어요^^\n",
       "3         주                  리조또가 짭짤하게 맛있고 마르게리따도 바삭 쫀득하니 맛있어요\n",
       "4        나리  오랜만에 왔는데도 여전히 맛있습니다! 매장도 넓어서 여럿이서 모임하러 오기에도 좋을...\n",
       "..      ...                                                ...\n",
       "95   YunSeo  피자가 맛있었어요 \\nㅎㅎㅎ 주뭄하면 빨리 나옵니다\\n음료 리필은 안되소 은근 돈아깝..\n",
       "96   EuGene                                    피자 파스타 모두 맛있어요.\n",
       "97   EuGene                                           맛있어요~ 추천\n",
       "98      김규리                               맛있어요!! 매장도 넓고 좋습다아:)\n",
       "99      손지우                                   라자냐랑 샐러드 넘 맛있어요!\n",
       "\n",
       "[100 rows x 2 columns]"
      ]
     },
     "execution_count": 12,
     "metadata": {},
     "output_type": "execute_result"
    }
   ],
   "source": [
    "reviews"
   ]
  },
  {
   "cell_type": "code",
   "execution_count": 13,
   "metadata": {},
   "outputs": [
    {
     "data": {
      "text/html": [
       "<div>\n",
       "<style scoped>\n",
       "    .dataframe tbody tr th:only-of-type {\n",
       "        vertical-align: middle;\n",
       "    }\n",
       "\n",
       "    .dataframe tbody tr th {\n",
       "        vertical-align: top;\n",
       "    }\n",
       "\n",
       "    .dataframe thead th {\n",
       "        text-align: right;\n",
       "    }\n",
       "</style>\n",
       "<table border=\"1\" class=\"dataframe\">\n",
       "  <thead>\n",
       "    <tr style=\"text-align: right;\">\n",
       "      <th></th>\n",
       "      <th>index</th>\n",
       "      <th>rank</th>\n",
       "      <th>id</th>\n",
       "      <th>name</th>\n",
       "      <th>tel</th>\n",
       "      <th>isCallLink</th>\n",
       "      <th>virtualTel</th>\n",
       "      <th>ppc</th>\n",
       "      <th>category</th>\n",
       "      <th>categoryPath</th>\n",
       "      <th>...</th>\n",
       "      <th>card</th>\n",
       "      <th>distance</th>\n",
       "      <th>marker</th>\n",
       "      <th>markerSelected</th>\n",
       "      <th>microReview</th>\n",
       "      <th>michelinGuide</th>\n",
       "      <th>indoor</th>\n",
       "      <th>markerLabel</th>\n",
       "      <th>subway</th>\n",
       "      <th>evChargerInfo</th>\n",
       "    </tr>\n",
       "  </thead>\n",
       "  <tbody>\n",
       "    <tr>\n",
       "      <th>0</th>\n",
       "      <td>0</td>\n",
       "      <td>1</td>\n",
       "      <td>254053959</td>\n",
       "      <td>나폴리회관 강남역점</td>\n",
       "      <td>02-538-5067</td>\n",
       "      <td>False</td>\n",
       "      <td>0507-1316-5067</td>\n",
       "      <td>1</td>\n",
       "      <td>[음식점, 이탈리아음식]</td>\n",
       "      <td>[[220036, 220044, 220127, 220913], [1004760, 1...</td>\n",
       "      <td>...</td>\n",
       "      <td>None</td>\n",
       "      <td>460600.97</td>\n",
       "      <td>nres://marker/00071-00123</td>\n",
       "      <td>nres://marker/00071-00278</td>\n",
       "      <td>[]</td>\n",
       "      <td>None</td>\n",
       "      <td>None</td>\n",
       "      <td>None</td>\n",
       "      <td>None</td>\n",
       "      <td>{'summary': {'fastEvCharger': {'type': '급속', '...</td>\n",
       "    </tr>\n",
       "  </tbody>\n",
       "</table>\n",
       "<p>1 rows × 68 columns</p>\n",
       "</div>"
      ],
      "text/plain": [
       "  index rank         id        name          tel  isCallLink      virtualTel  \\\n",
       "0     0    1  254053959  나폴리회관 강남역점  02-538-5067       False  0507-1316-5067   \n",
       "\n",
       "  ppc       category                                       categoryPath  ...  \\\n",
       "0   1  [음식점, 이탈리아음식]  [[220036, 220044, 220127, 220913], [1004760, 1...  ...   \n",
       "\n",
       "   card   distance                     marker             markerSelected  \\\n",
       "0  None  460600.97  nres://marker/00071-00123  nres://marker/00071-00278   \n",
       "\n",
       "  microReview michelinGuide indoor  markerLabel subway  \\\n",
       "0          []          None   None         None   None   \n",
       "\n",
       "                                       evChargerInfo  \n",
       "0  {'summary': {'fastEvCharger': {'type': '급속', '...  \n",
       "\n",
       "[1 rows x 68 columns]"
      ]
     },
     "execution_count": 13,
     "metadata": {},
     "output_type": "execute_result"
    }
   ],
   "source": [
    "search_results = store.info['search_results']  # list of search results\n",
    "search_results"
   ]
  }
 ],
 "metadata": {
  "interpreter": {
   "hash": "19c4c0ae0155194ebf4a7389c161e0c8d7fb8c6a1113575fc9683e6cf3de7727"
  },
  "kernelspec": {
   "display_name": "Python 3.9.1 64-bit ('sns': venv)",
   "language": "python",
   "name": "python3"
  },
  "language_info": {
   "codemirror_mode": {
    "name": "ipython",
    "version": 3
   },
   "file_extension": ".py",
   "mimetype": "text/x-python",
   "name": "python",
   "nbconvert_exporter": "python",
   "pygments_lexer": "ipython3",
   "version": "3.9.1"
  },
  "orig_nbformat": 4
 },
 "nbformat": 4,
 "nbformat_minor": 2
}
