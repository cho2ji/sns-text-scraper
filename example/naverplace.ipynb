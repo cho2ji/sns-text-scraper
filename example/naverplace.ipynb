{
 "cells": [
  {
   "cell_type": "markdown",
   "metadata": {},
   "source": [
    "# 네이버 플레이스\n",
    "\n",
    "## 업체의 가게설명과 리뷰 데이터\n",
    "\n",
    "네이버 지도의 첫번째 검색결과로 검색되는 업체 데이터를 가져오기 때문에 검색결과에 따라 원하는 업체의 데이터가 뽑히지 않을 수 있음. 그럴땐 `store.info['search_results']` 로 검색 결과를 확인해보고 검색하길 원하는 업체의 id로 검색."
   ]
  },
  {
   "cell_type": "code",
   "execution_count": 1,
   "metadata": {},
   "outputs": [],
   "source": [
    "from naverplacescraper import Store"
   ]
  },
  {
   "cell_type": "code",
   "execution_count": 2,
   "metadata": {},
   "outputs": [],
   "source": [
    "store = Store('나폴리회관')  # location defaults to '서울'\n",
    "description = store.get_description()\n",
    "reviews = store.get_reviews()  # defaults to 100 reviews."
   ]
  },
  {
   "cell_type": "markdown",
   "metadata": {},
   "source": [
    "가게 설명 텍스트 데이터"
   ]
  },
  {
   "cell_type": "code",
   "execution_count": 3,
   "metadata": {},
   "outputs": [
    {
     "data": {
      "text/plain": [
       "'나폴리회관은 미각과 시각을 동시에 충족시킬 수 있는 다양한 이탈리아 요리를 선보이는 곳입니다.\\n\\n어디에서나 맛볼수 없는 이탈리아 정통 가정식을 여러분께 선보입니다. \\n\\n나폴리 회관은 이탈리아산 폼페이 화산석 화덕에 이탈리아 고급 밀가루인 5STAGIONI로 숙성시켜 만든 도우를 나폴리 피자 협회 규정에 따라 485도의 참나무 장작에 구워 손님께 제공합니다\\n80석규모의 단체모임, 대관이 가능하며, 나폴리피자협회수료와 나폴리 챔피언 핏제리아에서 근무경험이 있는 최정태 쉐프가 직접 기획하는 창의적이고 특별한 메뉴를 경험해 보세요. \\n\\n특별한 날을 더욱 더 빛나게 하는 Special Menu, 각종 문화공연 및 브랜드와의 Collaboration Menu 등 다양한 행사 및 모임에 적합한 Menu를 고객님께 Customized된 서비스로 제공해 드립니다'"
      ]
     },
     "execution_count": 3,
     "metadata": {},
     "output_type": "execute_result"
    }
   ],
   "source": [
    "description"
   ]
  },
  {
   "cell_type": "markdown",
   "metadata": {},
   "source": [
    "리뷰 텍스트 데이터"
   ]
  },
  {
   "cell_type": "code",
   "execution_count": 4,
   "metadata": {},
   "outputs": [
    {
     "data": {
      "text/html": [
       "<div>\n",
       "<style scoped>\n",
       "    .dataframe tbody tr th:only-of-type {\n",
       "        vertical-align: middle;\n",
       "    }\n",
       "\n",
       "    .dataframe tbody tr th {\n",
       "        vertical-align: top;\n",
       "    }\n",
       "\n",
       "    .dataframe thead th {\n",
       "        text-align: right;\n",
       "    }\n",
       "</style>\n",
       "<table border=\"1\" class=\"dataframe\">\n",
       "  <thead>\n",
       "    <tr style=\"text-align: right;\">\n",
       "      <th></th>\n",
       "      <th>author</th>\n",
       "      <th>rating</th>\n",
       "      <th>review</th>\n",
       "    </tr>\n",
       "  </thead>\n",
       "  <tbody>\n",
       "    <tr>\n",
       "      <th>0</th>\n",
       "      <td>이응</td>\n",
       "      <td>NaN</td>\n",
       "      <td>피자 맛있어요~</td>\n",
       "    </tr>\n",
       "    <tr>\n",
       "      <th>1</th>\n",
       "      <td>GiGi</td>\n",
       "      <td>NaN</td>\n",
       "      <td>음식은 너무 맛있었는데 사이다가 너무 맛이없어서 아쉬웠어요 ㅠㅠ 탄산하나도 없고 설...</td>\n",
       "    </tr>\n",
       "    <tr>\n",
       "      <th>2</th>\n",
       "      <td>꿈꾸는쉬리</td>\n",
       "      <td>NaN</td>\n",
       "      <td>직원분들도 천절하시고 메뉴도 빨리준비되어 감사</td>\n",
       "    </tr>\n",
       "    <tr>\n",
       "      <th>3</th>\n",
       "      <td>laz****</td>\n",
       "      <td>NaN</td>\n",
       "      <td>적절한 분위기, 적절한 음식, 적절한 공간과 서비스</td>\n",
       "    </tr>\n",
       "    <tr>\n",
       "      <th>4</th>\n",
       "      <td>융</td>\n",
       "      <td>NaN</td>\n",
       "      <td>완전 맛있고 좋았어요!!!! 피자랑 파스타랑 완전 맛있었습니다~~</td>\n",
       "    </tr>\n",
       "    <tr>\n",
       "      <th>...</th>\n",
       "      <td>...</td>\n",
       "      <td>...</td>\n",
       "      <td>...</td>\n",
       "    </tr>\n",
       "    <tr>\n",
       "      <th>95</th>\n",
       "      <td>231123</td>\n",
       "      <td>4.0</td>\n",
       "      <td>3명이 방문해서 라자냐, 알리오올리오, 피자와 음료 이렇게 먹었는데 69,500원 ...</td>\n",
       "    </tr>\n",
       "    <tr>\n",
       "      <th>96</th>\n",
       "      <td>우히헤헤</td>\n",
       "      <td>5.0</td>\n",
       "      <td>피자 맛있어요 ㅋㅋㅋ4인테이블서 4명 앉고 메뉴 많이시키면 자리가 좁아요..ㅋㅋ</td>\n",
       "    </tr>\n",
       "    <tr>\n",
       "      <th>97</th>\n",
       "      <td>Leeee</td>\n",
       "      <td>5.0</td>\n",
       "      <td>오픈 주방이라 화덕에서 나오는것도 직접 보고 맛을보니 더 맛잇는거 같아요 ㅎㅎ 데이...</td>\n",
       "    </tr>\n",
       "    <tr>\n",
       "      <th>98</th>\n",
       "      <td>dpdhgh</td>\n",
       "      <td>5.0</td>\n",
       "      <td>파스타 맛집 아닌가용? 젼맛탱..,, 피자 맛도 궁금해서 담에 또 방문할게요~!~!~!</td>\n",
       "    </tr>\n",
       "    <tr>\n",
       "      <th>99</th>\n",
       "      <td>ehs****</td>\n",
       "      <td>2.5</td>\n",
       "      <td>전체적으로 가격에 비해 양도 적고 내용물도 별로 없어요. 맛은 그냥저냥..,, \\n...</td>\n",
       "    </tr>\n",
       "  </tbody>\n",
       "</table>\n",
       "<p>100 rows × 3 columns</p>\n",
       "</div>"
      ],
      "text/plain": [
       "     author  rating                                             review\n",
       "0        이응     NaN                                           피자 맛있어요~\n",
       "1      GiGi     NaN  음식은 너무 맛있었는데 사이다가 너무 맛이없어서 아쉬웠어요 ㅠㅠ 탄산하나도 없고 설...\n",
       "2     꿈꾸는쉬리     NaN                          직원분들도 천절하시고 메뉴도 빨리준비되어 감사\n",
       "3   laz****     NaN                       적절한 분위기, 적절한 음식, 적절한 공간과 서비스\n",
       "4         융     NaN               완전 맛있고 좋았어요!!!! 피자랑 파스타랑 완전 맛있었습니다~~\n",
       "..      ...     ...                                                ...\n",
       "95   231123     4.0  3명이 방문해서 라자냐, 알리오올리오, 피자와 음료 이렇게 먹었는데 69,500원 ...\n",
       "96     우히헤헤     5.0       피자 맛있어요 ㅋㅋㅋ4인테이블서 4명 앉고 메뉴 많이시키면 자리가 좁아요..ㅋㅋ\n",
       "97    Leeee     5.0  오픈 주방이라 화덕에서 나오는것도 직접 보고 맛을보니 더 맛잇는거 같아요 ㅎㅎ 데이...\n",
       "98   dpdhgh     5.0   파스타 맛집 아닌가용? 젼맛탱..,, 피자 맛도 궁금해서 담에 또 방문할게요~!~!~!\n",
       "99  ehs****     2.5  전체적으로 가격에 비해 양도 적고 내용물도 별로 없어요. 맛은 그냥저냥..,, \\n...\n",
       "\n",
       "[100 rows x 3 columns]"
      ]
     },
     "execution_count": 4,
     "metadata": {},
     "output_type": "execute_result"
    }
   ],
   "source": [
    "reviews"
   ]
  },
  {
   "cell_type": "markdown",
   "metadata": {},
   "source": [
    "네이버 플레이스 검색 결과 리스트 데이터"
   ]
  },
  {
   "cell_type": "code",
   "execution_count": 5,
   "metadata": {},
   "outputs": [
    {
     "data": {
      "text/html": [
       "<div>\n",
       "<style scoped>\n",
       "    .dataframe tbody tr th:only-of-type {\n",
       "        vertical-align: middle;\n",
       "    }\n",
       "\n",
       "    .dataframe tbody tr th {\n",
       "        vertical-align: top;\n",
       "    }\n",
       "\n",
       "    .dataframe thead th {\n",
       "        text-align: right;\n",
       "    }\n",
       "</style>\n",
       "<table border=\"1\" class=\"dataframe\">\n",
       "  <thead>\n",
       "    <tr style=\"text-align: right;\">\n",
       "      <th></th>\n",
       "      <th>index</th>\n",
       "      <th>rank</th>\n",
       "      <th>id</th>\n",
       "      <th>name</th>\n",
       "      <th>tel</th>\n",
       "      <th>isCallLink</th>\n",
       "      <th>virtualTel</th>\n",
       "      <th>ppc</th>\n",
       "      <th>category</th>\n",
       "      <th>categoryPath</th>\n",
       "      <th>...</th>\n",
       "      <th>card</th>\n",
       "      <th>distance</th>\n",
       "      <th>marker</th>\n",
       "      <th>markerSelected</th>\n",
       "      <th>microReview</th>\n",
       "      <th>michelinGuide</th>\n",
       "      <th>indoor</th>\n",
       "      <th>markerLabel</th>\n",
       "      <th>subway</th>\n",
       "      <th>evChargerInfo</th>\n",
       "    </tr>\n",
       "  </thead>\n",
       "  <tbody>\n",
       "    <tr>\n",
       "      <th>0</th>\n",
       "      <td>0</td>\n",
       "      <td>1</td>\n",
       "      <td>254053959</td>\n",
       "      <td>나폴리회관 강남역점</td>\n",
       "      <td>02-538-5067</td>\n",
       "      <td>False</td>\n",
       "      <td>0507-1316-5067</td>\n",
       "      <td>1</td>\n",
       "      <td>[음식점, 이탈리아음식]</td>\n",
       "      <td>[[220036, 220044, 220127, 220913], [1004760, 1...</td>\n",
       "      <td>...</td>\n",
       "      <td>None</td>\n",
       "      <td>11731.37</td>\n",
       "      <td>nres://marker/00071-00123</td>\n",
       "      <td>nres://marker/00071-00278</td>\n",
       "      <td>[]</td>\n",
       "      <td>None</td>\n",
       "      <td>None</td>\n",
       "      <td>None</td>\n",
       "      <td>None</td>\n",
       "      <td>{'summary': {'fastEvCharger': {'type': '급속', '...</td>\n",
       "    </tr>\n",
       "  </tbody>\n",
       "</table>\n",
       "<p>1 rows × 68 columns</p>\n",
       "</div>"
      ],
      "text/plain": [
       "  index rank         id        name          tel  isCallLink      virtualTel  \\\n",
       "0     0    1  254053959  나폴리회관 강남역점  02-538-5067       False  0507-1316-5067   \n",
       "\n",
       "  ppc       category                                       categoryPath  ...  \\\n",
       "0   1  [음식점, 이탈리아음식]  [[220036, 220044, 220127, 220913], [1004760, 1...  ...   \n",
       "\n",
       "   card  distance                     marker             markerSelected  \\\n",
       "0  None  11731.37  nres://marker/00071-00123  nres://marker/00071-00278   \n",
       "\n",
       "  microReview michelinGuide indoor  markerLabel subway  \\\n",
       "0          []          None   None         None   None   \n",
       "\n",
       "                                       evChargerInfo  \n",
       "0  {'summary': {'fastEvCharger': {'type': '급속', '...  \n",
       "\n",
       "[1 rows x 68 columns]"
      ]
     },
     "execution_count": 5,
     "metadata": {},
     "output_type": "execute_result"
    }
   ],
   "source": [
    "search_results = store.search_result  # list of search results\n",
    "search_results"
   ]
  },
  {
   "cell_type": "markdown",
   "metadata": {},
   "source": [
    "다른 지역 검색"
   ]
  },
  {
   "cell_type": "code",
   "execution_count": 6,
   "metadata": {},
   "outputs": [],
   "source": [
    "store = Store('애플망고1947', location='제주')  # location defaults to '서울'\n",
    "description = store.get_description()\n",
    "reviews = store.get_reviews()  # defaults to 100 reviews."
   ]
  },
  {
   "cell_type": "code",
   "execution_count": 7,
   "metadata": {},
   "outputs": [
    {
     "data": {
      "text/plain": [
       "'2021년 7월 임시매장을 대정읍 신평리 곶자왈마을에 이전하였습니다. 메인 매장은 바로 근처에 체험이 가능한 오픈 농장과 함께 다양한 사진 촬영이 가능한 예쁜\\x03카페 공간을 건축중입니다. 아쉽게도, 코로나와 여러 이유로 조금 늦어지고 있지만 아주 멋진 별도의 공간을 준비중이니 양해부탁드립니다. 이미 소문나있는 100% 제주 애플망고 빙수를 비롯해 다양한 메뉴를 선보일 예정입니다. 제주 농부 촌장이 직접 재배한 애플망고를 가장 저렴하게 구입하실수도 있답니다. 곶자왈(숲+돌,자갈) 마을인 신평리의 정겨움까지 듬뿍 담겠습니다. \\n제 고향에 오신 것을 미리 진심으로 환영합니다.'"
      ]
     },
     "execution_count": 7,
     "metadata": {},
     "output_type": "execute_result"
    }
   ],
   "source": [
    "description"
   ]
  },
  {
   "cell_type": "code",
   "execution_count": 8,
   "metadata": {},
   "outputs": [
    {
     "data": {
      "text/html": [
       "<div>\n",
       "<style scoped>\n",
       "    .dataframe tbody tr th:only-of-type {\n",
       "        vertical-align: middle;\n",
       "    }\n",
       "\n",
       "    .dataframe tbody tr th {\n",
       "        vertical-align: top;\n",
       "    }\n",
       "\n",
       "    .dataframe thead th {\n",
       "        text-align: right;\n",
       "    }\n",
       "</style>\n",
       "<table border=\"1\" class=\"dataframe\">\n",
       "  <thead>\n",
       "    <tr style=\"text-align: right;\">\n",
       "      <th></th>\n",
       "      <th>author</th>\n",
       "      <th>rating</th>\n",
       "      <th>review</th>\n",
       "    </tr>\n",
       "  </thead>\n",
       "  <tbody>\n",
       "    <tr>\n",
       "      <th>0</th>\n",
       "      <td>chc****</td>\n",
       "      <td>5.0</td>\n",
       "      <td>애플망고빙수가 이번주 언제 종료될지 모르니 전화하고 오라고 하셨는데 이틀 동안 전화...</td>\n",
       "    </tr>\n",
       "    <tr>\n",
       "      <th>1</th>\n",
       "      <td>ffc****</td>\n",
       "      <td>5.0</td>\n",
       "      <td>애플망고가 입에서 살살녹아서 사라짐\\n사라진 애플망고 내놓으세요</td>\n",
       "    </tr>\n",
       "    <tr>\n",
       "      <th>2</th>\n",
       "      <td>Soon</td>\n",
       "      <td>5.0</td>\n",
       "      <td>제주산 애플망고빙수 치고는 가격도 착하고 양도 푸짐했어요. 다른곳은 애플망고빙수 시...</td>\n",
       "    </tr>\n",
       "    <tr>\n",
       "      <th>3</th>\n",
       "      <td>차니</td>\n",
       "      <td>5.0</td>\n",
       "      <td>가성비가 좋아요. 신라호텔 반도 안되는 가격에 이 정도 퀄리티면 두번 가도 좋을 듯...</td>\n",
       "    </tr>\n",
       "    <tr>\n",
       "      <th>4</th>\n",
       "      <td>재라도리</td>\n",
       "      <td>5.0</td>\n",
       "      <td>10월이지만 아직도 더운 제주! 시원한 디저트를 찾다가 간 곳입니다. 재료 소진 시...</td>\n",
       "    </tr>\n",
       "    <tr>\n",
       "      <th>...</th>\n",
       "      <td>...</td>\n",
       "      <td>...</td>\n",
       "      <td>...</td>\n",
       "    </tr>\n",
       "    <tr>\n",
       "      <th>95</th>\n",
       "      <td>이제이</td>\n",
       "      <td>5.0</td>\n",
       "      <td>사진찍을수있는곳도 많고 친구들도 너무 좋아했어요. 애플망고빙수 짱짱 진짜 맛있어요</td>\n",
       "    </tr>\n",
       "    <tr>\n",
       "      <th>96</th>\n",
       "      <td>피포</td>\n",
       "      <td>5.0</td>\n",
       "      <td>망고농장도 구경하고 애플망고빙수도 먹고 좋아요!</td>\n",
       "    </tr>\n",
       "    <tr>\n",
       "      <th>97</th>\n",
       "      <td>김양씨</td>\n",
       "      <td>5.0</td>\n",
       "      <td>여름에만 판매하는줄 알았는데 지금도 먹을 수있네요. 가을이라도 낮에는 덥던데 시원하...</td>\n",
       "    </tr>\n",
       "    <tr>\n",
       "      <th>98</th>\n",
       "      <td>red****</td>\n",
       "      <td>5.0</td>\n",
       "      <td>애플망고 먹으려고 제주도까지 왔어요 ㅎㅎ 너무 맛있게 먹고 가요</td>\n",
       "    </tr>\n",
       "    <tr>\n",
       "      <th>99</th>\n",
       "      <td>isawara</td>\n",
       "      <td>3.0</td>\n",
       "      <td>애플망고빙수는 맛있었어요.\\n명성에 누가되는 인테리어 컨셉 어쩔..ㅠ.ㅠ</td>\n",
       "    </tr>\n",
       "  </tbody>\n",
       "</table>\n",
       "<p>100 rows × 3 columns</p>\n",
       "</div>"
      ],
      "text/plain": [
       "     author  rating                                             review\n",
       "0   chc****     5.0  애플망고빙수가 이번주 언제 종료될지 모르니 전화하고 오라고 하셨는데 이틀 동안 전화...\n",
       "1   ffc****     5.0                애플망고가 입에서 살살녹아서 사라짐\\n사라진 애플망고 내놓으세요\n",
       "2      Soon     5.0  제주산 애플망고빙수 치고는 가격도 착하고 양도 푸짐했어요. 다른곳은 애플망고빙수 시...\n",
       "3        차니     5.0  가성비가 좋아요. 신라호텔 반도 안되는 가격에 이 정도 퀄리티면 두번 가도 좋을 듯...\n",
       "4      재라도리     5.0  10월이지만 아직도 더운 제주! 시원한 디저트를 찾다가 간 곳입니다. 재료 소진 시...\n",
       "..      ...     ...                                                ...\n",
       "95      이제이     5.0      사진찍을수있는곳도 많고 친구들도 너무 좋아했어요. 애플망고빙수 짱짱 진짜 맛있어요\n",
       "96       피포     5.0                         망고농장도 구경하고 애플망고빙수도 먹고 좋아요!\n",
       "97      김양씨     5.0  여름에만 판매하는줄 알았는데 지금도 먹을 수있네요. 가을이라도 낮에는 덥던데 시원하...\n",
       "98  red****     5.0                애플망고 먹으려고 제주도까지 왔어요 ㅎㅎ 너무 맛있게 먹고 가요\n",
       "99  isawara     3.0           애플망고빙수는 맛있었어요.\\n명성에 누가되는 인테리어 컨셉 어쩔..ㅠ.ㅠ\n",
       "\n",
       "[100 rows x 3 columns]"
      ]
     },
     "execution_count": 8,
     "metadata": {},
     "output_type": "execute_result"
    }
   ],
   "source": [
    "reviews"
   ]
  },
  {
   "cell_type": "markdown",
   "metadata": {},
   "source": [
    "### 업체 id로 검색\n",
    "\n",
    "네이버 플레이스에 등록되어있는 id로 업체를 검색. 여러 업체 검색 결과를 리스트로 가지고 있을 때 반복문을 돌며 id로 검색하면 여러 업체의 리뷰 데이터를 가져올 수 있음."
   ]
  },
  {
   "cell_type": "code",
   "execution_count": 9,
   "metadata": {},
   "outputs": [],
   "source": [
    "store = Store('1183779572', location='제주', by_id=True)\n",
    "description = store.get_description()\n",
    "reviews = store.get_reviews()"
   ]
  },
  {
   "cell_type": "code",
   "execution_count": 10,
   "metadata": {},
   "outputs": [
    {
     "data": {
      "text/plain": [
       "'2021년 7월 임시매장을 대정읍 신평리 곶자왈마을에 이전하였습니다. 메인 매장은 바로 근처에 체험이 가능한 오픈 농장과 함께 다양한 사진 촬영이 가능한 예쁜\\x03카페 공간을 건축중입니다. 아쉽게도, 코로나와 여러 이유로 조금 늦어지고 있지만 아주 멋진 별도의 공간을 준비중이니 양해부탁드립니다. 이미 소문나있는 100% 제주 애플망고 빙수를 비롯해 다양한 메뉴를 선보일 예정입니다. 제주 농부 촌장이 직접 재배한 애플망고를 가장 저렴하게 구입하실수도 있답니다. 곶자왈(숲+돌,자갈) 마을인 신평리의 정겨움까지 듬뿍 담겠습니다. \\n제 고향에 오신 것을 미리 진심으로 환영합니다.'"
      ]
     },
     "execution_count": 10,
     "metadata": {},
     "output_type": "execute_result"
    }
   ],
   "source": [
    "description"
   ]
  },
  {
   "cell_type": "code",
   "execution_count": 11,
   "metadata": {},
   "outputs": [
    {
     "data": {
      "text/html": [
       "<div>\n",
       "<style scoped>\n",
       "    .dataframe tbody tr th:only-of-type {\n",
       "        vertical-align: middle;\n",
       "    }\n",
       "\n",
       "    .dataframe tbody tr th {\n",
       "        vertical-align: top;\n",
       "    }\n",
       "\n",
       "    .dataframe thead th {\n",
       "        text-align: right;\n",
       "    }\n",
       "</style>\n",
       "<table border=\"1\" class=\"dataframe\">\n",
       "  <thead>\n",
       "    <tr style=\"text-align: right;\">\n",
       "      <th></th>\n",
       "      <th>author</th>\n",
       "      <th>rating</th>\n",
       "      <th>review</th>\n",
       "    </tr>\n",
       "  </thead>\n",
       "  <tbody>\n",
       "    <tr>\n",
       "      <th>0</th>\n",
       "      <td>chc****</td>\n",
       "      <td>5.0</td>\n",
       "      <td>애플망고빙수가 이번주 언제 종료될지 모르니 전화하고 오라고 하셨는데 이틀 동안 전화...</td>\n",
       "    </tr>\n",
       "    <tr>\n",
       "      <th>1</th>\n",
       "      <td>ffc****</td>\n",
       "      <td>5.0</td>\n",
       "      <td>애플망고가 입에서 살살녹아서 사라짐\\n사라진 애플망고 내놓으세요</td>\n",
       "    </tr>\n",
       "    <tr>\n",
       "      <th>2</th>\n",
       "      <td>Soon</td>\n",
       "      <td>5.0</td>\n",
       "      <td>제주산 애플망고빙수 치고는 가격도 착하고 양도 푸짐했어요. 다른곳은 애플망고빙수 시...</td>\n",
       "    </tr>\n",
       "    <tr>\n",
       "      <th>3</th>\n",
       "      <td>차니</td>\n",
       "      <td>5.0</td>\n",
       "      <td>가성비가 좋아요. 신라호텔 반도 안되는 가격에 이 정도 퀄리티면 두번 가도 좋을 듯...</td>\n",
       "    </tr>\n",
       "    <tr>\n",
       "      <th>4</th>\n",
       "      <td>재라도리</td>\n",
       "      <td>5.0</td>\n",
       "      <td>10월이지만 아직도 더운 제주! 시원한 디저트를 찾다가 간 곳입니다. 재료 소진 시...</td>\n",
       "    </tr>\n",
       "    <tr>\n",
       "      <th>...</th>\n",
       "      <td>...</td>\n",
       "      <td>...</td>\n",
       "      <td>...</td>\n",
       "    </tr>\n",
       "    <tr>\n",
       "      <th>95</th>\n",
       "      <td>이제이</td>\n",
       "      <td>5.0</td>\n",
       "      <td>사진찍을수있는곳도 많고 친구들도 너무 좋아했어요. 애플망고빙수 짱짱 진짜 맛있어요</td>\n",
       "    </tr>\n",
       "    <tr>\n",
       "      <th>96</th>\n",
       "      <td>피포</td>\n",
       "      <td>5.0</td>\n",
       "      <td>망고농장도 구경하고 애플망고빙수도 먹고 좋아요!</td>\n",
       "    </tr>\n",
       "    <tr>\n",
       "      <th>97</th>\n",
       "      <td>김양씨</td>\n",
       "      <td>5.0</td>\n",
       "      <td>여름에만 판매하는줄 알았는데 지금도 먹을 수있네요. 가을이라도 낮에는 덥던데 시원하...</td>\n",
       "    </tr>\n",
       "    <tr>\n",
       "      <th>98</th>\n",
       "      <td>red****</td>\n",
       "      <td>5.0</td>\n",
       "      <td>애플망고 먹으려고 제주도까지 왔어요 ㅎㅎ 너무 맛있게 먹고 가요</td>\n",
       "    </tr>\n",
       "    <tr>\n",
       "      <th>99</th>\n",
       "      <td>isawara</td>\n",
       "      <td>3.0</td>\n",
       "      <td>애플망고빙수는 맛있었어요.\\n명성에 누가되는 인테리어 컨셉 어쩔..ㅠ.ㅠ</td>\n",
       "    </tr>\n",
       "  </tbody>\n",
       "</table>\n",
       "<p>100 rows × 3 columns</p>\n",
       "</div>"
      ],
      "text/plain": [
       "     author  rating                                             review\n",
       "0   chc****     5.0  애플망고빙수가 이번주 언제 종료될지 모르니 전화하고 오라고 하셨는데 이틀 동안 전화...\n",
       "1   ffc****     5.0                애플망고가 입에서 살살녹아서 사라짐\\n사라진 애플망고 내놓으세요\n",
       "2      Soon     5.0  제주산 애플망고빙수 치고는 가격도 착하고 양도 푸짐했어요. 다른곳은 애플망고빙수 시...\n",
       "3        차니     5.0  가성비가 좋아요. 신라호텔 반도 안되는 가격에 이 정도 퀄리티면 두번 가도 좋을 듯...\n",
       "4      재라도리     5.0  10월이지만 아직도 더운 제주! 시원한 디저트를 찾다가 간 곳입니다. 재료 소진 시...\n",
       "..      ...     ...                                                ...\n",
       "95      이제이     5.0      사진찍을수있는곳도 많고 친구들도 너무 좋아했어요. 애플망고빙수 짱짱 진짜 맛있어요\n",
       "96       피포     5.0                         망고농장도 구경하고 애플망고빙수도 먹고 좋아요!\n",
       "97      김양씨     5.0  여름에만 판매하는줄 알았는데 지금도 먹을 수있네요. 가을이라도 낮에는 덥던데 시원하...\n",
       "98  red****     5.0                애플망고 먹으려고 제주도까지 왔어요 ㅎㅎ 너무 맛있게 먹고 가요\n",
       "99  isawara     3.0           애플망고빙수는 맛있었어요.\\n명성에 누가되는 인테리어 컨셉 어쩔..ㅠ.ㅠ\n",
       "\n",
       "[100 rows x 3 columns]"
      ]
     },
     "execution_count": 11,
     "metadata": {},
     "output_type": "execute_result"
    }
   ],
   "source": [
    "reviews"
   ]
  }
 ],
 "metadata": {
  "interpreter": {
   "hash": "19c4c0ae0155194ebf4a7389c161e0c8d7fb8c6a1113575fc9683e6cf3de7727"
  },
  "kernelspec": {
   "display_name": "Python 3.9.1 64-bit ('sns': venv)",
   "language": "python",
   "name": "python3"
  },
  "language_info": {
   "codemirror_mode": {
    "name": "ipython",
    "version": 3
   },
   "file_extension": ".py",
   "mimetype": "text/x-python",
   "name": "python",
   "nbconvert_exporter": "python",
   "pygments_lexer": "ipython3",
   "version": "3.9.1"
  },
  "orig_nbformat": 4
 },
 "nbformat": 4,
 "nbformat_minor": 2
}
