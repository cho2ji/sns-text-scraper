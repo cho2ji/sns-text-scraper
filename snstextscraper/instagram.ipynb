{
 "cells": [
  {
   "cell_type": "code",
   "execution_count": 1,
   "id": "22b84bf3-686f-470c-a800-65c95c793cf7",
   "metadata": {},
   "outputs": [],
   "source": [
    "from selenium import webdriver\n",
    "from selenium.webdriver.common.keys import Keys\n",
    "from time import sleep\n",
    "import yaml\n",
    "import warnings\n",
    "\n",
    "warnings.filterwarnings(\"ignore\")"
   ]
  },
  {
   "cell_type": "code",
   "execution_count": 2,
   "id": "3fcc3036-6386-409e-9b7b-b6075204f710",
   "metadata": {},
   "outputs": [],
   "source": [
    "with open('../config.yml', 'r') as f:\n",
    "    config = yaml.load(f, Loader=yaml.FullLoader)"
   ]
  },
  {
   "cell_type": "code",
   "execution_count": 6,
   "id": "19c4165a-594a-468b-b878-9fc10e5607e8",
   "metadata": {},
   "outputs": [
    {
     "data": {
      "text/plain": [
       "'cho2__ji'"
      ]
     },
     "execution_count": 6,
     "metadata": {},
     "output_type": "execute_result"
    }
   ],
   "source": [
    "ID = config['instagram']['username']\n",
    "PW = config['instagram']['password']"
   ]
  },
  {
   "cell_type": "code",
   "execution_count": 10,
   "id": "3e28c3c5-7bf1-453d-ac92-d47313e91bec",
   "metadata": {},
   "outputs": [
    {
     "name": "stderr",
     "output_type": "stream",
     "text": [
      "/var/folders/2n/d9vm9c_n6tvcbz8kd3cpsb480000gn/T/ipykernel_18442/380423882.py:1: DeprecationWarning: executable_path has been deprecated, please pass in a Service object\n",
      "  browser = webdriver.Chrome(\"/Users/cho2jiwoo/chromedriver\")\n",
      "/var/folders/2n/d9vm9c_n6tvcbz8kd3cpsb480000gn/T/ipykernel_18442/380423882.py:9: DeprecationWarning: find_element_by_* commands are deprecated. Please use find_element() instead\n",
      "  username_input = browser.find_element_by_css_selector(\"input[name='username']\")\n",
      "/var/folders/2n/d9vm9c_n6tvcbz8kd3cpsb480000gn/T/ipykernel_18442/380423882.py:10: DeprecationWarning: find_element_by_* commands are deprecated. Please use find_element() instead\n",
      "  password_input = browser.find_element_by_css_selector(\"input[name='password']\")\n",
      "/var/folders/2n/d9vm9c_n6tvcbz8kd3cpsb480000gn/T/ipykernel_18442/380423882.py:15: DeprecationWarning: find_element_by_* commands are deprecated. Please use find_element() instead\n",
      "  login_button = browser.find_element_by_xpath(\"//button[@type='submit']\")\n"
     ]
    }
   ],
   "source": [
    "browser = webdriver.Chrome(\"/Users/cho2jiwoo/chromedriver\")\n",
    "\n",
    "browser.implicitly_wait(1)\n",
    "\n",
    "browser.get('https://www.instagram.com/')\n",
    "\n",
    "sleep(1)\n",
    "\n",
    "username_input = browser.find_element_by_css_selector(\"input[name='username']\")\n",
    "password_input = browser.find_element_by_css_selector(\"input[name='password']\")\n",
    "\n",
    "username_input.send_keys(\"\")\n",
    "password_input.send_keys(\"\")\n",
    "\n",
    "login_button = browser.find_element_by_xpath(\"//button[@type='submit']\")\n",
    "login_button.click()"
   ]
  },
  {
   "cell_type": "code",
   "execution_count": 13,
   "id": "a4fe892d-4fa6-42fa-af43-1c52fa38d97d",
   "metadata": {},
   "outputs": [
    {
     "name": "stderr",
     "output_type": "stream",
     "text": [
      "/var/folders/2n/d9vm9c_n6tvcbz8kd3cpsb480000gn/T/ipykernel_18442/2231503048.py:1: DeprecationWarning: find_element_by_* commands are deprecated. Please use find_element() instead\n",
      "  not_not_button = browser.find_element_by_xpath(\"//button[text()='나중에 하기']\")\n"
     ]
    }
   ],
   "source": [
    "for i in range(0, 2):\n",
    "    not_not_button = browser.find_element_by_xpath(\"//button[text()='나중에 하기']\")\n",
    "    not_not_button.click()\n",
    "    sleep(2)"
   ]
  },
  {
   "cell_type": "code",
   "execution_count": 18,
   "id": "e4a97da5-5e5a-4db3-81bc-7f23a84042c5",
   "metadata": {},
   "outputs": [
    {
     "name": "stderr",
     "output_type": "stream",
     "text": [
      "/var/folders/2n/d9vm9c_n6tvcbz8kd3cpsb480000gn/T/ipykernel_18442/2131070068.py:1: DeprecationWarning: find_element_by_* commands are deprecated. Please use find_element() instead\n",
      "  search_input = browser.find_element_by_css_selector(\"input[placeholder='검색']\")\n"
     ]
    }
   ],
   "source": [
    "search_input = browser.find_element_by_css_selector(\"input[placeholder='검색']\")\n",
    "search_input.send_keys(\"#애플망고1947\")\n",
    "search_input.send_keys(Keys.DOWN)\n",
    "search_input.send_keys(Keys.RETURN)"
   ]
  },
  {
   "cell_type": "code",
   "execution_count": 20,
   "id": "43ad7dc3-de1a-49c0-b751-3f8f1519ad56",
   "metadata": {},
   "outputs": [],
   "source": []
  },
  {
   "cell_type": "code",
   "execution_count": 22,
   "id": "3400c5a4-0c6d-4cbb-beeb-877dd2e634f9",
   "metadata": {},
   "outputs": [],
   "source": [
    "browser.close()"
   ]
  }
 ],
 "metadata": {
  "kernelspec": {
   "display_name": "sns",
   "language": "python",
   "name": "sns"
  },
  "language_info": {
   "codemirror_mode": {
    "name": "ipython",
    "version": 3
   },
   "file_extension": ".py",
   "mimetype": "text/x-python",
   "name": "python",
   "nbconvert_exporter": "python",
   "pygments_lexer": "ipython3",
   "version": "3.9.1"
  }
 },
 "nbformat": 4,
 "nbformat_minor": 5
}
