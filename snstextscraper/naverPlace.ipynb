{
 "cells": [
  {
   "cell_type": "markdown",
   "id": "87263ed5-b1d5-46af-b488-867489b42afc",
   "metadata": {
    "tags": []
   },
   "source": [
    "### 가게 id 가져오기"
   ]
  },
  {
   "cell_type": "code",
   "execution_count": 28,
   "id": "fd843c2f-b951-4873-9653-9ec63054c0ec",
   "metadata": {},
   "outputs": [],
   "source": [
    "base_lat = 37.278039\n",
    "base_long = 127.0397669\n",
    "query = '애플망고1947'\n",
    "url = f'https://map.naver.com/v5/api/instantSearch?lang=ko&caller=pcweb&types=place,address,bus&coords={base_lat},{base_long}&query={query}'\n",
    "headers = {'User-Agent': 'Mozilla'}"
   ]
  },
  {
   "cell_type": "code",
   "execution_count": 29,
   "id": "a7416793-b6fd-410b-871d-8930bb6a5aa0",
   "metadata": {},
   "outputs": [
    {
     "data": {
      "text/plain": [
       "200"
      ]
     },
     "execution_count": 29,
     "metadata": {},
     "output_type": "execute_result"
    }
   ],
   "source": [
    "res = requests.get(url, headers=headers)\n",
    "res.status_code"
   ]
  },
  {
   "cell_type": "code",
   "execution_count": 30,
   "id": "b50b1136-3f18-4ba6-a81a-16322b9d5a67",
   "metadata": {},
   "outputs": [],
   "source": [
    "data = json.loads(res.text)"
   ]
  },
  {
   "cell_type": "code",
   "execution_count": 33,
   "id": "47ea399f-0435-4685-970f-8cf8c7a83ee5",
   "metadata": {},
   "outputs": [],
   "source": [
    "_id = data['place'][0]['id']\n",
    "distance = data['place'][0]['dist']"
   ]
  },
  {
   "cell_type": "markdown",
   "id": "4aceda6c-81f8-435f-aeca-d7d4be384987",
   "metadata": {},
   "source": [
    "### 가게 설명 데이터 가져오기"
   ]
  },
  {
   "cell_type": "code",
   "execution_count": 34,
   "id": "a051c95a-6ff8-4a51-8886-9f49923b9af2",
   "metadata": {},
   "outputs": [
    {
     "data": {
      "text/plain": [
       "200"
      ]
     },
     "execution_count": 34,
     "metadata": {},
     "output_type": "execute_result"
    }
   ],
   "source": [
    "url = f'https://map.naver.com/v5/api/sites/summary/{_id}?lang=ko'\n",
    "res = requests.get(url, headers=headers)\n",
    "res.status_code"
   ]
  },
  {
   "cell_type": "code",
   "execution_count": 35,
   "id": "469ec577-0884-41a6-97b6-84535817b03d",
   "metadata": {},
   "outputs": [],
   "source": [
    "data = json.loads(res.text)"
   ]
  },
  {
   "cell_type": "code",
   "execution_count": 37,
   "id": "4b2fcf43-1db1-44c6-9be8-8cb6931a0171",
   "metadata": {},
   "outputs": [],
   "source": [
    "description = data['description']\n",
    "keywords = data['keywords']"
   ]
  },
  {
   "cell_type": "code",
   "execution_count": 39,
   "id": "fa5eaf6c-173b-4eeb-82a1-c8c08ea43dc5",
   "metadata": {},
   "outputs": [
    {
     "data": {
      "text/plain": [
       "'2021년 7월 임시매장을 대정읍 신평리 곶자왈마을에 이전하였습니다. 메인 매장은 바로 근처에 체험이 가능한 오픈 농장과 함께 다양한 사진 촬영이 가능한 예쁜\\x03카페 공간을 건축중입니다. 아쉽게도, 코로나와 여러 이유로 조금 늦어지고 있지만 아주 멋진 별도의 공간을 준비중이니 양해부탁드립니다. 이미 소문나있는 100% 제주 애플망고 빙수를 비롯해 다양한 메뉴를 선보일 예정입니다. 제주 농부 촌장이 직접 재배한 애플망고를 가장 저렴하게 구입하실수도 있답니다. 곶자왈(숲+돌,자갈) 마을인 신평리의 정겨움까지 듬뿍 담겠습니다. \\n제 고향에 오신 것을 미리 진심으로 환영합니다.'"
      ]
     },
     "execution_count": 39,
     "metadata": {},
     "output_type": "execute_result"
    }
   ],
   "source": [
    "description"
   ]
  },
  {
   "cell_type": "markdown",
   "id": "55133489-3216-4fc1-948e-1ecd82c95565",
   "metadata": {},
   "source": [
    "### 리뷰 데이터 가져오기"
   ]
  },
  {
   "cell_type": "code",
   "execution_count": 1,
   "id": "9ec31a08-7aa5-43a5-b6c5-bf843ba8ec60",
   "metadata": {},
   "outputs": [],
   "source": [
    "import requests\n",
    "import json\n",
    "import pandas as pd"
   ]
  },
  {
   "cell_type": "code",
   "execution_count": 16,
   "id": "d7ba5e1e-f36b-467b-a317-7e7e5c56d868",
   "metadata": {},
   "outputs": [],
   "source": [
    "url = 'https://api.place.naver.com/graphql'\n",
    "headers = {'User-Agent': 'Mozilla'}\n",
    "_id = '1183779572'\n",
    "\n",
    "query = \"\"\"query getVisitorReviews($input: VisitorReviewsInput) {\\n  visitorReviews(input: $input) {\\n    items {\\n      id\\n      rating\\n      author {\\n        id\\n        nickname\\n        from\\n        imageUrl\\n        objectId\\n        url\\n        review {\\n          totalCount\\n          imageCount\\n          avgRating\\n          __typename\\n        }\\n        __typename\\n      }\\n      body\\n      thumbnail\\n      media {\\n        type\\n        thumbnail\\n        __typename\\n      }\\n      tags\\n      status\\n      visitCount\\n      viewCount\\n      visited\\n      created\\n      reply {\\n        editUrl\\n        body\\n        editedBy\\n        created\\n        replyTitle\\n        __typename\\n      }\\n      originType\\n      item {\\n        name\\n        code\\n        options\\n        __typename\\n      }\\n      language\\n      highlightOffsets\\n      translatedText\\n      businessName\\n      showBookingItemName\\n      showBookingItemOptions\\n      bookingItemName\\n      bookingItemOptions\\n      __typename\\n    }\\n    starDistribution {\\n      score\\n      count\\n      __typename\\n    }\\n    hideProductSelectBox\\n    total\\n    __typename\\n  }\\n}\\n\n",
    "\"\"\"\n",
    "payload = {\n",
    "    'operationName': 'getVisitorReviews',\n",
    "    'variables': {\n",
    "        'input': {\n",
    "            'businessId': _id,\n",
    "            'businessType': 'restaurant',\n",
    "            'item': '0',\n",
    "            'bookingBusinessId': None,\n",
    "            'page': 1,\n",
    "            'display': 100,\n",
    "            'isPhotoUsed': False,\n",
    "            'theme': 'allTypes',\n",
    "            'includeContent': True,\n",
    "            'getAuthorInfo': False,\n",
    "        },\n",
    "        'id': _id,\n",
    "    },\n",
    "    'query': query\n",
    "}"
   ]
  },
  {
   "cell_type": "code",
   "execution_count": 17,
   "id": "03be32a1-fe14-46ad-83a9-cb491a4382a8",
   "metadata": {},
   "outputs": [
    {
     "data": {
      "text/plain": [
       "200"
      ]
     },
     "execution_count": 17,
     "metadata": {},
     "output_type": "execute_result"
    }
   ],
   "source": [
    "res = requests.post(url, headers=headers, json=payload)\n",
    "res.status_code"
   ]
  },
  {
   "cell_type": "code",
   "execution_count": 19,
   "id": "160f35a3-c00d-47c7-8a62-04f2b2170260",
   "metadata": {},
   "outputs": [],
   "source": [
    "data = res.json()"
   ]
  },
  {
   "cell_type": "code",
   "execution_count": 27,
   "id": "c23fb2f6-60d7-4599-9a3d-48d7aaa5f86e",
   "metadata": {},
   "outputs": [
    {
     "name": "stdout",
     "output_type": "stream",
     "text": [
      "매냐\n",
      "제주 도착한 첫날 방문했는데, 망고빙수 품절 ㅡㅜ\n",
      "비오는 월요일이라 그런지 오늘은 성공~^^\n",
      "오후시간에는 무조건 전화해서 문의 한 후 방문하는게 좋을것 같아요~\n"
     ]
    }
   ],
   "source": [
    "review_num = 19\n",
    "print(data['data']['visitorReviews']['items'][review_num]['author']['nickname'])\n",
    "print(data['data']['visitorReviews']['items'][review_num]['body'])"
   ]
  }
 ],
 "metadata": {
  "kernelspec": {
   "display_name": "notebook",
   "language": "python",
   "name": "notebook"
  },
  "language_info": {
   "codemirror_mode": {
    "name": "ipython",
    "version": 3
   },
   "file_extension": ".py",
   "mimetype": "text/x-python",
   "name": "python",
   "nbconvert_exporter": "python",
   "pygments_lexer": "ipython3",
   "version": "3.9.1"
  }
 },
 "nbformat": 4,
 "nbformat_minor": 5
}
